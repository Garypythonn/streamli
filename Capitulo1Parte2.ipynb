{
  "nbformat": 4,
  "nbformat_minor": 0,
  "metadata": {
    "colab": {
      "name": "Capitulo1Parte2.ipynb",
      "provenance": [],
      "collapsed_sections": [],
      "include_colab_link": true
    },
    "kernelspec": {
      "name": "python3",
      "display_name": "Python 3"
    },
    "language_info": {
      "name": "python"
    }
  },
  "cells": [
    {
      "cell_type": "markdown",
      "metadata": {
        "id": "view-in-github",
        "colab_type": "text"
      },
      "source": [
        "<a href=\"https://colab.research.google.com/github/Garypythonn/streamli/blob/main/Capitulo1Parte2.ipynb\" target=\"_parent\"><img src=\"https://colab.research.google.com/assets/colab-badge.svg\" alt=\"Open In Colab\"/></a>"
      ]
    },
    {
      "cell_type": "markdown",
      "source": [
        "#Capítulo 1, Parte 2"
      ],
      "metadata": {
        "id": "oAySUB-mySam"
      }
    },
    {
      "cell_type": "markdown",
      "source": [
        "# 1.11. Naming a Slice  \n",
        "\n",
        "Problem:\n",
        "Your program has become an unreadable mess of hardcoded slice indices and you want\n",
        "to clean it up."
      ],
      "metadata": {
        "id": "Y_hBp5HvyaWb"
      }
    },
    {
      "cell_type": "code",
      "execution_count": null,
      "metadata": {
        "id": "seVxODNm_Tc8",
        "colab": {
          "base_uri": "https://localhost:8080/"
        },
        "outputId": "5a11aae6-e83a-4bd1-df11-c7b3666f4ffb"
      },
      "outputs": [
        {
          "output_type": "execute_result",
          "data": {
            "text/plain": [
              "51325.0"
            ]
          },
          "metadata": {},
          "execution_count": 5
        }
      ],
      "source": [
        "\n",
        "##pos###'012345678901234567890123456789012345678901234567890'\n",
        "record ='....................100         .......513.25     ..........'\n",
        "int(record[20:32]) * float(record[39:49])"
      ]
    },
    {
      "cell_type": "code",
      "source": [
        "#SLICING: Extracción de elementos de objetos(listas, tuplas,strings)\n",
        "## Forma 1\n",
        "items=[5,6,10,15,2,0,24,5]\n",
        "\n",
        "#items[2:6]  #Extrae desde la pos# 2 hasta la pos# 5 (No incluye el elemento de la pos# 6)\n",
        "\n",
        "#items[3:] #Extrae desde la pos#3 en adelante\n",
        "\n",
        "#items[1:6:2]  #Extrae desde pos# 1 hasta pos# 5 de a 2 pasos ( uno si, otro no)"
      ],
      "metadata": {
        "id": "vASJ3dZAZ8Gl"
      },
      "execution_count": null,
      "outputs": []
    },
    {
      "cell_type": "code",
      "source": [
        "## Forma 2: Creando un slice\n",
        "\n",
        "s=slice(2,6)  \n",
        "items[s]\n",
        "\n",
        "#items[s]=[100,200,300,400]  #Edita los elementos especificados por el slice\n",
        "#items\n",
        "\n",
        "#del items[s]   # Borra los elementos espeficidados por el slice\n",
        "#items\n",
        "\n",
        "\n",
        "#a=slice(1,6,2)  \n",
        "#items[a]\n",
        "\n",
        "##'012345678901234'\n",
        "#S='hola-para-todos'\n",
        "#c=slice(5,9)\n",
        "#S[c]"
      ],
      "metadata": {
        "colab": {
          "base_uri": "https://localhost:8080/",
          "height": 39
        },
        "id": "14-8EKyyp2Ir",
        "outputId": "b53c6c4d-92a8-4606-adbf-48c084d74fc5"
      },
      "execution_count": null,
      "outputs": [
        {
          "output_type": "execute_result",
          "data": {
            "text/plain": [
              "'para'"
            ],
            "application/vnd.google.colaboratory.intrinsic+json": {
              "type": "string"
            }
          },
          "metadata": {},
          "execution_count": 89
        }
      ]
    },
    {
      "cell_type": "code",
      "source": [
        "#Obtener informacion de un slice\n",
        "b=slice(5, 50, 2)\n",
        "\n",
        "b.start\n",
        "#b.stop\n",
        "#b.step"
      ],
      "metadata": {
        "colab": {
          "base_uri": "https://localhost:8080/"
        },
        "id": "jQspDWJGu2SA",
        "outputId": "fb7d2c58-415a-49bd-bfec-7686e23f1af4"
      },
      "execution_count": null,
      "outputs": [
        {
          "output_type": "execute_result",
          "data": {
            "text/plain": [
              "5"
            ]
          },
          "metadata": {},
          "execution_count": 73
        }
      ]
    },
    {
      "cell_type": "code",
      "source": [
        "stg='HelloWorld'\n",
        "b.indices(len(stg))  #Devuelve una tupla con (start, stop, step) donde  los valores del slice se \n",
        "                     #ajustan al tamaño de stg"
      ],
      "metadata": {
        "colab": {
          "base_uri": "https://localhost:8080/"
        },
        "id": "65KhveUFvYVM",
        "outputId": "34a46fa9-7786-4241-9db6-5c165b87ff21"
      },
      "execution_count": null,
      "outputs": [
        {
          "output_type": "execute_result",
          "data": {
            "text/plain": [
              "(5, 10, 2)"
            ]
          },
          "metadata": {},
          "execution_count": 74
        }
      ]
    },
    {
      "cell_type": "code",
      "source": [
        "#for i in range(*b.indices(len(stg))):\n",
        " # print(stg[i])"
      ],
      "metadata": {
        "colab": {
          "base_uri": "https://localhost:8080/"
        },
        "id": "cSYmchiK0RnJ",
        "outputId": "3381bfb0-2efb-428c-fde7-539fbce679d8"
      },
      "execution_count": null,
      "outputs": [
        {
          "output_type": "stream",
          "name": "stdout",
          "text": [
            "W\n",
            "r\n",
            "d\n"
          ]
        }
      ]
    },
    {
      "cell_type": "code",
      "source": [
        "# Convertir strings a números (integer o float)\n",
        "\n",
        "n='12568'\n",
        "#type(n)\n",
        "int(n)   # convierte el string n en entero.\n",
        "\n",
        "#f='3.1415'\n",
        "#float(f)  # convierte el string f a decimal."
      ],
      "metadata": {
        "colab": {
          "base_uri": "https://localhost:8080/"
        },
        "id": "TNRgjkJL8mUp",
        "outputId": "daf1b9a5-6640-4550-c29b-0d1d33ad1d7e"
      },
      "execution_count": null,
      "outputs": [
        {
          "output_type": "execute_result",
          "data": {
            "text/plain": [
              "3.1415"
            ]
          },
          "metadata": {},
          "execution_count": 78
        }
      ]
    },
    {
      "cell_type": "code",
      "source": [
        "#Solucion Problema: Ejercicio\n",
        "\n",
        "##pos### '01234567890123456789012345678901234567890123456789012345'\n",
        "record  ='....................100          .......513.25     ..........'\n",
        "record1 ='....................    320      .......    1130.26..........'"
      ],
      "metadata": {
        "id": "nvNvbXJgC0ts"
      },
      "execution_count": null,
      "outputs": []
    },
    {
      "cell_type": "markdown",
      "source": [
        "# 1.12. Determining the Most Frequently Occurring Items in a Sequence\n",
        "Problem:\n",
        "You have a sequence of items, and you’d like to determine the most frequently occurring\n",
        "items in the sequence."
      ],
      "metadata": {
        "id": "U62wj-ZIylv-"
      }
    },
    {
      "cell_type": "code",
      "source": [
        ""
      ],
      "metadata": {
        "id": "qhNlU8KZwtkq"
      },
      "execution_count": null,
      "outputs": []
    },
    {
      "cell_type": "code",
      "source": [
        ""
      ],
      "metadata": {
        "id": "zBA0W4Uz_BVd"
      },
      "execution_count": null,
      "outputs": []
    },
    {
      "cell_type": "markdown",
      "source": [
        "# 1.13. Sorting a List of Dictionaries by a Common Key\n",
        "Problem:\n",
        "You have a list of dictionaries and you would like to sort the entries according to one\n",
        "or more of the dictionary values."
      ],
      "metadata": {
        "id": "7zyD_kKTymAw"
      }
    },
    {
      "cell_type": "code",
      "source": [
        ""
      ],
      "metadata": {
        "id": "6WjfbDI-_C1j"
      },
      "execution_count": null,
      "outputs": []
    },
    {
      "cell_type": "markdown",
      "source": [
        "# 1.14. Sorting Objects Without Native Comparison Support\n",
        "Problem:\n",
        "You want to sort objects of the same class, but they don’t natively support comparison\n",
        "operations"
      ],
      "metadata": {
        "id": "mLKvttPhymK3"
      }
    },
    {
      "cell_type": "code",
      "source": [
        ""
      ],
      "metadata": {
        "id": "GMeOQKaa_Dkt"
      },
      "execution_count": null,
      "outputs": []
    },
    {
      "cell_type": "markdown",
      "source": [
        "# 1.15. Grouping Records Together Based on a Field\n",
        "Problem:\n",
        "You have a sequence of dictionaries or instances and you want to iterate over the data\n",
        "in groups based on the value of a particular field, such as date."
      ],
      "metadata": {
        "id": "8LCmILo-ymPK"
      }
    },
    {
      "cell_type": "code",
      "source": [
        ""
      ],
      "metadata": {
        "id": "Y0F7fiyn_EuN"
      },
      "execution_count": null,
      "outputs": []
    },
    {
      "cell_type": "markdown",
      "source": [
        "#1.16. filtrando elmentos de una sequencia\n",
        "❓ ❓ ❓\n",
        "Problema:\n",
        "Tenemos datos dentro de una sucesión, y necesitamos extraer sus valores o reducir la sucesión por medio de algún criterio."
      ],
      "metadata": {
        "id": "KHwy75aJymTC"
      }
    },
    {
      "cell_type": "code",
      "source": [
        "https://sawanrai777.medium.com/have-fun-with-emojis-in-jupyter-notebook-f74db7f45210"
      ],
      "metadata": {
        "id": "l7AWTWyJS-C1"
      },
      "execution_count": null,
      "outputs": []
    },
    {
      "cell_type": "code",
      "source": [
        "#Supongamos que queremos filtrar la siguiente lista generando una lista de positivos y una de negativos:\n",
        "mylist = [1, 4, -5, 10, -7, 2, 3, -1]\n",
        "#Forma larga:\n",
        "pos=[]\n",
        "for i in range(len(mylist)):\n",
        "  pos.append(mylist[i])\n",
        "pos \n",
        "#[n for n in mylist if n > 0]\n",
        "#[1, 4, 10, 2, 3]\n",
        "#[n for n in mylist if n < 0]\n",
        "#[-5, -7, -1]"
      ],
      "metadata": {
        "id": "UwZBLjHraa_A",
        "colab": {
          "base_uri": "https://localhost:8080/"
        },
        "outputId": "11f2fee8-5458-484d-932d-4bb9f3347d7d"
      },
      "execution_count": 4,
      "outputs": [
        {
          "output_type": "execute_result",
          "data": {
            "text/plain": [
              "[1, 4, -5, 10, -7, 2, 3, -1]"
            ]
          },
          "metadata": {},
          "execution_count": 4
        }
      ]
    },
    {
      "cell_type": "code",
      "source": [
        "pos = (n for n in mylist if n > 0)\n",
        "pos\n",
        "\n",
        "#for x in pos:\n",
        "  #print(x)"
      ],
      "metadata": {
        "id": "XVEzhNDnanhK"
      },
      "execution_count": null,
      "outputs": []
    },
    {
      "cell_type": "code",
      "source": [
        "values = ['1', '2', '-3', '-', '4', 'N/A', '5']\n",
        "def is_int(val):\n",
        "try:\n",
        "x = int(val)\n",
        "return True\n",
        "except ValueError:\n",
        "return False\n",
        "ivals = list(filter(is_int, values))\n",
        "print(ivals)"
      ],
      "metadata": {
        "id": "HIxsQ2L7azul"
      },
      "execution_count": null,
      "outputs": []
    },
    {
      "cell_type": "code",
      "source": [
        "#Discusión:\n",
        "mylist = [1, 4, -5, 10, -7, 2, 3, -1]\n",
        "import math\n",
        "[math.sqrt(n) for n in mylist if n > 0]\n"
      ],
      "metadata": {
        "id": "Dy2a8sn3a89V"
      },
      "execution_count": null,
      "outputs": []
    },
    {
      "cell_type": "code",
      "source": [
        "clip_neg = [n if n > 0 else 0 for n in mylist]\n",
        "clip_neg\n",
        "[1, 4, 0, 10, 0, 2, 3, 0]\n",
        "clip_pos = [n if n < 0 else 0 for n in mylist]\n",
        "clip_pos"
      ],
      "metadata": {
        "id": "eeRqhTc5bLvv"
      },
      "execution_count": null,
      "outputs": []
    },
    {
      "cell_type": "code",
      "source": [
        "addresses = [\n",
        "'5412 N CLARK',\n",
        "'5148 N CLARK',\n",
        "'5800 E 58TH',\n",
        "'2122 N CLARK'\n",
        "'5645 N RAVENSWOOD',\n",
        "'1060 W ADDISON',\n",
        "'4801 N BROADWAY',\n",
        "'1039 W GRANVILLE',\n",
        "]\n",
        "counts = [ 0, 3, 10, 4, 1, 7, 6, 1]"
      ],
      "metadata": {
        "id": "8Mex6ktXbPWr"
      },
      "execution_count": null,
      "outputs": []
    },
    {
      "cell_type": "code",
      "source": [
        "from itertools import compress\n",
        "more5 = [n > 5 for n in counts]\n",
        "more5\n",
        "list(compress(addresses, more5))\n",
        "['5800 E 58TH', '4801 N BROADWAY', '1039 W GRANVILLE']\n"
      ],
      "metadata": {
        "id": "57Xs0P9bbPaX"
      },
      "execution_count": null,
      "outputs": []
    },
    {
      "cell_type": "code",
      "source": [
        ""
      ],
      "metadata": {
        "id": "RIyxVJJgbk-Q"
      },
      "execution_count": null,
      "outputs": []
    },
    {
      "cell_type": "markdown",
      "source": [
        "# 1.17. Extracting a Subset of a Dictionary\n",
        "Problem:\n",
        "You want to make a dictionary that is a subset of another dictionary."
      ],
      "metadata": {
        "id": "FdgbzSZuymWe"
      }
    },
    {
      "cell_type": "code",
      "source": [
        "prices = {\n",
        "'ACME': 45.23,\n",
        "'AAPL': 612.78,\n",
        "'IBM': 205.55,\n",
        "'HPQ': 37.20,\n",
        "'FB': 10.75\n",
        "}\n",
        "# Make a dictionary of all prices over 200\n",
        "p1 = { key:value for key, value in prices.items() if value > 200 }\n",
        "# Make a dictionary of tech stocks\n",
        "tech_names = { 'AAPL', 'IBM', 'HPQ', 'MSFT' }\n",
        "p2 = { key:value for key,value in prices.items() if key in tech_names }"
      ],
      "metadata": {
        "id": "sJ2OczJf_GWT"
      },
      "execution_count": null,
      "outputs": []
    },
    {
      "cell_type": "code",
      "source": [
        "p1 = dict((key, value) for key, value in prices.items() if value > 200)"
      ],
      "metadata": {
        "id": "lJV738uYbwKq"
      },
      "execution_count": null,
      "outputs": []
    },
    {
      "cell_type": "code",
      "source": [
        "# Make a dictionary of tech stocks\n",
        "tech_names = { 'AAPL', 'IBM', 'HPQ', 'MSFT' }\n",
        "p2 = { key:prices[key] for key in prices.keys() & tech_names }"
      ],
      "metadata": {
        "id": "Hros91gQb3WE"
      },
      "execution_count": null,
      "outputs": []
    },
    {
      "cell_type": "markdown",
      "source": [
        "# 1.18. Mapping Names to Sequence Elements\n",
        "Problem:\n",
        "You have code that accesses list or tuple elements by position, but this makes the code\n",
        "somewhat difficult to read at times. You’d also like to be less dependent on position in\n",
        "the structure, by accessing the elements by name."
      ],
      "metadata": {
        "id": "e7uh9pGzymaB"
      }
    },
    {
      "cell_type": "code",
      "source": [
        "prices = {\n",
        "'ACME': 45.23,\n",
        "'AAPL': 612.78,\n",
        "'IBM': 205.55,\n",
        "'HPQ': 37.20,\n",
        "'FB': 10.75\n",
        "}\n",
        "# Make a dictionary of all prices over 200\n",
        "p1 = { key:value for key, value in prices.items() if value > 200 }\n",
        "# Make a dictionary of tech stocks\n",
        "tech_names = { 'AAPL', 'IBM', 'HPQ', 'MSFT' }\n",
        "p2 = { key:value for key,value in prices.items() if key in tech_names }"
      ],
      "metadata": {
        "id": "66QaaCwD_HWY"
      },
      "execution_count": null,
      "outputs": []
    },
    {
      "cell_type": "code",
      "source": [
        "p1 = dict((key, value) for key, value in prices.items() if value > 200)"
      ],
      "metadata": {
        "id": "e0ddP743cDJ2"
      },
      "execution_count": null,
      "outputs": []
    },
    {
      "cell_type": "code",
      "source": [
        "# Make a dictionary of tech stocks\n",
        "tech_names = { 'AAPL', 'IBM', 'HPQ', 'MSFT' }\n",
        "p2 = { key:prices[key] for key in prices.keys() & tech_names }"
      ],
      "metadata": {
        "id": "P3ylK8rKcDNe"
      },
      "execution_count": null,
      "outputs": []
    },
    {
      "cell_type": "code",
      "source": [
        ">>> from collections import namedtuple\n",
        ">>> Subscriber = namedtuple('Subscriber', ['addr', 'joined'])\n",
        ">>> sub = Subscriber('jonesy@example.com', '2012-10-19')\n",
        ">>> sub\n",
        "Subscriber(addr='jonesy@example.com', joined='2012-10-19')\n",
        ">>> sub.addr\n",
        "'jonesy@example.com'\n",
        ">>> sub.joined\n",
        "'2012-10-19'"
      ],
      "metadata": {
        "id": "VOwVF9wVcTH2"
      },
      "execution_count": null,
      "outputs": []
    },
    {
      "cell_type": "code",
      "source": [
        "len(sub)\n",
        "2\n",
        ">>> addr, joined = sub\n",
        ">>> addr\n",
        "'jonesy@example.com'\n",
        ">>> joined\n",
        "'2012-10-19'"
      ],
      "metadata": {
        "id": "yozz2iHHcZt_"
      },
      "execution_count": null,
      "outputs": []
    },
    {
      "cell_type": "code",
      "source": [
        "def compute_cost(records):\n",
        "total = 0.0\n",
        "for rec in records:\n",
        "total += rec[1] * rec[2]\n",
        "return total"
      ],
      "metadata": {
        "id": "RsoFKGG3cd5I"
      },
      "execution_count": null,
      "outputs": []
    },
    {
      "cell_type": "code",
      "source": [
        "from collections import namedtuple\n",
        "Stock = namedtuple('Stock', ['name', 'shares', 'price'])\n",
        "\n",
        "def compute_cost(records):\n",
        "total = 0.0\n",
        "for rec in records:\n",
        "s = Stock(*rec)\n",
        "total += s.shares * s.price\n",
        "return total"
      ],
      "metadata": {
        "id": "v7XsOvG6ci5A"
      },
      "execution_count": null,
      "outputs": []
    },
    {
      "cell_type": "code",
      "source": [
        "s = Stock('ACME', 100, 123.45)\n",
        ">>> s\n",
        "Stock(name='ACME', shares=100, price=123.45)\n",
        ">>> s.shares = 75\n",
        "Traceback (most recent call last):\n",
        "File \"<stdin>\", line 1, in <module>\n",
        "AttributeError: can't set attribute"
      ],
      "metadata": {
        "id": "umvFgVgPci8s"
      },
      "execution_count": null,
      "outputs": []
    },
    {
      "cell_type": "code",
      "source": [
        ">>> s = s._replace(shares=75)\n",
        ">>> s\n",
        "Stock(name='ACME', shares=75, price=123.45)"
      ],
      "metadata": {
        "id": "QvgU6z0fcwlA"
      },
      "execution_count": null,
      "outputs": []
    },
    {
      "cell_type": "code",
      "source": [
        "from collections import namedtuple\n",
        "Stock = namedtuple('Stock', ['name', 'shares', 'price', 'date', 'time'])\n",
        "# Create a prototype instance\n",
        "stock_prototype = Stock('', 0, 0.0, None, None)\n",
        "# Function to convert a dictionary to a Stock\n",
        "def dict_to_stock(s):\n",
        "return stock_prototype._replace(**s)"
      ],
      "metadata": {
        "id": "43TxXEf5cwpL"
      },
      "execution_count": null,
      "outputs": []
    },
    {
      "cell_type": "code",
      "source": [
        ">>> a = {'name': 'ACME', 'shares': 100, 'price': 123.45}\n",
        ">>> dict_to_stock(a)\n",
        "Stock(name='ACME', shares=100, price=123.45, date=None, time=None)\n",
        ">>> b = {'name': 'ACME', 'shares': 100, 'price': 123.45, 'date': '12/17/2012'}\n",
        ">>> dict_to_stock(b)\n",
        "Stock(name='ACME', shares=100, price=123.45, date='12/17/2012', time=None)"
      ],
      "metadata": {
        "id": "QjDPp_4Wcd86"
      },
      "execution_count": null,
      "outputs": []
    },
    {
      "cell_type": "code",
      "source": [
        ""
      ],
      "metadata": {
        "id": "85lOcOSlc-__"
      },
      "execution_count": null,
      "outputs": []
    },
    {
      "cell_type": "code",
      "source": [
        ""
      ],
      "metadata": {
        "id": "z0p-nf__cZxQ"
      },
      "execution_count": null,
      "outputs": []
    },
    {
      "cell_type": "markdown",
      "source": [
        "# 1.19. Transforming and Reducing Data at the Same Time\n",
        "Problem:\n",
        "You need to execute a reduction function (e.g., sum(), min(), max()), but first need to\n",
        "transform or filter the data."
      ],
      "metadata": {
        "id": "Hd-r7a33-fyb"
      }
    },
    {
      "cell_type": "code",
      "source": [
        "nums = [1, 2, 3, 4, 5]\n",
        "s = sum(x * x for x in nums)\n",
        "Here are a few other examples:\n",
        "# Determine if any .py files exist in a directory\n",
        "import os\n",
        "files = os.listdir('dirname')\n",
        "if any(name.endswith('.py') for name in files):\n",
        "print('There be python!')\n",
        "else:\n",
        "print('Sorry, no python.')\n",
        "# Output a tuple as CSV\n",
        "s = ('ACME', 50, 123.45)\n",
        "print(','.join(str(x) for x in s))\n",
        "# Data reduction across fields of a data structure\n",
        "portfolio = [\n",
        "{'name':'GOOG', 'shares': 50},\n",
        "{'name':'YHOO', 'shares': 75},\n",
        "{'name':'AOL', 'shares': 20},\n",
        "{'name':'SCOX', 'shares': 65}\n",
        "]\n",
        "min_shares = min(s['shares'] for s in portfolio)"
      ],
      "metadata": {
        "id": "3OywsYi-_IMi"
      },
      "execution_count": null,
      "outputs": []
    },
    {
      "cell_type": "code",
      "source": [
        "s = sum((x * x for x in nums)) # Pass generator-expr as argument\n",
        "s = sum(x * x for x in nums) # More elegant syntax"
      ],
      "metadata": {
        "id": "OqHj0GT7dLTG"
      },
      "execution_count": null,
      "outputs": []
    },
    {
      "cell_type": "code",
      "source": [
        "nums = [1, 2, 3, 4, 5]\n",
        "s = sum([x * x for x in nums])"
      ],
      "metadata": {
        "id": "sv-njA0ydL_P"
      },
      "execution_count": null,
      "outputs": []
    },
    {
      "cell_type": "code",
      "source": [
        "#Original: Returns 20\n",
        "min_shares = min(s['shares'] for s in portfolio)\n",
        "# Alternative: Returns {'name': 'AOL', 'shares': 20}\n",
        "min_shares = min(portfolio, key=lambda s: s['shares'])"
      ],
      "metadata": {
        "id": "q3SkMVjkdAqp"
      },
      "execution_count": null,
      "outputs": []
    },
    {
      "cell_type": "code",
      "source": [
        ""
      ],
      "metadata": {
        "id": "m2ZwQJpcdA0o"
      },
      "execution_count": null,
      "outputs": []
    },
    {
      "cell_type": "code",
      "source": [
        ""
      ],
      "metadata": {
        "id": "wYjeecqRdA3r"
      },
      "execution_count": null,
      "outputs": []
    },
    {
      "cell_type": "code",
      "source": [
        ""
      ],
      "metadata": {
        "id": "bmf7pSThdA6Z"
      },
      "execution_count": null,
      "outputs": []
    },
    {
      "cell_type": "code",
      "source": [
        ""
      ],
      "metadata": {
        "id": "zvc_VF5YdA9B"
      },
      "execution_count": null,
      "outputs": []
    },
    {
      "cell_type": "markdown",
      "source": [
        "#1.20. Combining Multiple Mappings into a Single\n",
        "Mapping\n",
        "Problem:\n",
        "You have multiple dictionaries or mappings that you want to logically combine into a\n",
        "single mapping to perform certain operations, such as looking up values or checking\n",
        "for the existence of keys."
      ],
      "metadata": {
        "id": "96jkfXFo-f2R"
      }
    },
    {
      "cell_type": "code",
      "source": [
        "a = {'x': 1, 'z': 3 }\n",
        "b = {'y': 2, 'z': 4 }"
      ],
      "metadata": {
        "id": "n3B3xe-tdAuU"
      },
      "execution_count": null,
      "outputs": []
    },
    {
      "cell_type": "code",
      "source": [
        "from collections import ChainMap\n",
        "c = ChainMap(a,b)\n",
        "print(c['x']) # Outputs 1 (from a)\n",
        "print(c['y']) # Outputs 2 (from b)\n",
        "print(c['z']) # Outputs 3 (from a)"
      ],
      "metadata": {
        "id": "wnH5bJXFdAx0"
      },
      "execution_count": null,
      "outputs": []
    },
    {
      "cell_type": "code",
      "source": [
        "len(c)\n",
        "3\n",
        ">>> list(c.keys())\n",
        "['x', 'y', 'z']\n",
        ">>> list(c.values())\n",
        "[1, 2, 3]"
      ],
      "metadata": {
        "id": "ISGFT-nF-_ek"
      },
      "execution_count": null,
      "outputs": []
    },
    {
      "cell_type": "code",
      "source": [
        "c['z'] = 10\n",
        ">>> c['w'] = 40\n",
        ">>> del c['x']\n",
        ">>> a\n",
        "{'w': 40, 'z': 10}\n",
        ">>> del c['y']"
      ],
      "metadata": {
        "id": "VT5BAt05duEs"
      },
      "execution_count": null,
      "outputs": []
    },
    {
      "cell_type": "code",
      "source": [
        ">>> values = ChainMap()\n",
        ">>> values['x'] = 1\n",
        ">>> # Add a new mapping\n",
        ">>> values = values.new_child()\n",
        ">>> values['x'] = 2\n",
        ">>> # Add a new mapping\n",
        ">>> values = values.new_child()\n",
        ">>> values['x'] = 3\n",
        ">>> values\n",
        "ChainMap({'x': 3}, {'x': 2}, {'x': 1})\n",
        ">>> values['x']\n",
        "3\n",
        ">>> # Discard last mapping\n",
        ">>> values = values.parents\n",
        ">>> values['x']\n",
        "2\n",
        ">>> # Discard last mapping\n",
        ">>> values = values.parents\n",
        ">>> values['x']\n",
        "1\n",
        ">>> values\n",
        "ChainMap({'x': 1})"
      ],
      "metadata": {
        "id": "1-IGZ1crduIK"
      },
      "execution_count": null,
      "outputs": []
    },
    {
      "cell_type": "code",
      "source": [
        ">>> a = {'x': 1, 'z': 3 }\n",
        ">>> b = {'y': 2, 'z': 4 }\n",
        ">>> merged = dict(b)\n",
        ">>> merged.update(a)\n",
        ">>> merged['x']\n",
        "1\n",
        ">>> merged['y']\n",
        "2\n",
        ">>> merged['z']"
      ],
      "metadata": {
        "id": "LKPsYonmduLl"
      },
      "execution_count": null,
      "outputs": []
    },
    {
      "cell_type": "code",
      "source": [
        "a['x'] = 13\n",
        ">>> merged['x']"
      ],
      "metadata": {
        "id": "V7BreRSBduN7"
      },
      "execution_count": null,
      "outputs": []
    },
    {
      "cell_type": "code",
      "source": [
        "a = {'x': 1, 'z': 3 }\n",
        ">>> b = {'y': 2, 'z': 4 }\n",
        ">>> merged = ChainMap(a, b)\n",
        ">>> merged['x']\n",
        "1\n",
        ">>> a['x'] = 42\n",
        ">>> merged['x'] # Notice change to merged dicts"
      ],
      "metadata": {
        "id": "kswJXrVOeVDG"
      },
      "execution_count": null,
      "outputs": []
    },
    {
      "cell_type": "code",
      "source": [
        "pip install emoji --upgrade\n",
        "  "
      ],
      "metadata": {
        "id": "LbvJM15Q2ip4"
      },
      "execution_count": null,
      "outputs": []
    },
    {
      "cell_type": "code",
      "source": [
        "import emoji\n",
        "print(emoji.emojize('Phd is very easy!!! :thumbs_up:'))"
      ],
      "metadata": {
        "colab": {
          "base_uri": "https://localhost:8080/"
        },
        "id": "Ok5-3zE_RUdC",
        "outputId": "c1038a9b-b58a-42a1-e835-0e2965450a8d"
      },
      "execution_count": 2,
      "outputs": [
        {
          "output_type": "stream",
          "name": "stdout",
          "text": [
            "Phd is very easy!!! 👍\n"
          ]
        }
      ]
    },
    {
      "cell_type": "markdown",
      "source": [
        "🧮"
      ],
      "metadata": {
        "id": "10tZUUlaSOmB"
      }
    },
    {
      "cell_type": "code",
      "source": [
        ""
      ],
      "metadata": {
        "id": "zBraGT79RUgd"
      },
      "execution_count": null,
      "outputs": []
    }
  ]
}